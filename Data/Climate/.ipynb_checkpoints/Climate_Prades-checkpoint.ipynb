{
 "cells": [
  {
   "cell_type": "markdown",
   "id": "441fdb4d",
   "metadata": {},
   "source": [
    "# Climate data Prades\n"
   ]
  },
  {
   "cell_type": "code",
   "execution_count": 1,
   "id": "2876eb2a",
   "metadata": {},
   "outputs": [],
   "source": [
    "import numpy as np\n",
    "import pandas as pd\n",
    "import matplotlib.pyplot as plt\n",
    "import glob\n",
    "import matplotlib.dates as mdates"
   ]
  },
  {
   "cell_type": "markdown",
   "id": "b1961b0f",
   "metadata": {},
   "source": [
    "## Read data\n",
    "\n",
    "DOY: day of the year.\n",
    "\n",
    "T: Temperature [deg C].\n",
    "\n",
    "RH: Relative humidity [-].\n",
    "\n",
    "VPD: Vapour pressure deficit [kPa].\n",
    "\n",
    "R: Radiation [W m-2].\n",
    "\n",
    "WS: Wind speed [m s-1]. The firs years have mean wind speed while the last ones have maximum wind speed.\n",
    "\n",
    "P: Precipitation [L m-2] or [mm]."
   ]
  },
  {
   "cell_type": "code",
   "execution_count": 4,
   "id": "eaace178",
   "metadata": {},
   "outputs": [],
   "source": [
    "files=glob.glob(\"*.xls\")+glob.glob(\"*.xlsx\")\n",
    "files=np.sort(files); files=files[1:]\n",
    "\n",
    "df=pd.concat((pd.read_excel(f) for f in files), ignore_index=True) # read and concate all year files.\n",
    "\n",
    "df[\"datetime\"]=df.apply(lambda x: pd.to_datetime(x[\"year\"], format=\"%Y\") # create the datetime column.\n",
    "    + pd.DateOffset(days=x[\"DOY\"] - 1, hours=x[\"time\"]/100),\n",
    "    axis=1,)\n",
    "\n",
    "df.rename(columns={'temp (ºC)': 'Ta', 'humidity (%)': 'HR','VPD (Kpa)': 'VPD', 'Radiation (W m-2)': 'R','wind speed (m s-1)':'maxWS','mean wind speed (m s-1)': 'meanWS'\n",
    ",'rainfall (L m-2)':'P'}, inplace=True)\n",
    "\n",
    "df.loc[(df['HR']<0) | (df['HR']>100),'VPD']=np.nan\n",
    "df.loc[(df['HR']<0) | (df['HR']>100),'HR']=np.nan # replace values of HR<0 or H>100 by NAN.   "
   ]
  },
  {
   "cell_type": "code",
   "execution_count": 6,
   "id": "69484f94",
   "metadata": {},
   "outputs": [],
   "source": [
    "df.to_csv('Prades_hourly.csv')"
   ]
  },
  {
   "cell_type": "markdown",
   "id": "077c769c",
   "metadata": {},
   "source": [
    "## Aggregate at daily resolution\n",
    "\n",
    "\n"
   ]
  },
  {
   "cell_type": "code",
   "execution_count": 7,
   "id": "71d565bb",
   "metadata": {},
   "outputs": [
    {
     "data": {
      "text/html": [
       "<div>\n",
       "<style scoped>\n",
       "    .dataframe tbody tr th:only-of-type {\n",
       "        vertical-align: middle;\n",
       "    }\n",
       "\n",
       "    .dataframe tbody tr th {\n",
       "        vertical-align: top;\n",
       "    }\n",
       "\n",
       "    .dataframe thead th {\n",
       "        text-align: right;\n",
       "    }\n",
       "</style>\n",
       "<table border=\"1\" class=\"dataframe\">\n",
       "  <thead>\n",
       "    <tr style=\"text-align: right;\">\n",
       "      <th></th>\n",
       "      <th>Datetime</th>\n",
       "      <th>year</th>\n",
       "      <th>DOY</th>\n",
       "      <th>Ta</th>\n",
       "      <th>Tmax</th>\n",
       "      <th>Tmin</th>\n",
       "      <th>HR</th>\n",
       "      <th>VPD</th>\n",
       "      <th>R</th>\n",
       "      <th>WS</th>\n",
       "      <th>P</th>\n",
       "    </tr>\n",
       "    <tr>\n",
       "      <th>datetime</th>\n",
       "      <th></th>\n",
       "      <th></th>\n",
       "      <th></th>\n",
       "      <th></th>\n",
       "      <th></th>\n",
       "      <th></th>\n",
       "      <th></th>\n",
       "      <th></th>\n",
       "      <th></th>\n",
       "      <th></th>\n",
       "      <th></th>\n",
       "    </tr>\n",
       "  </thead>\n",
       "  <tbody>\n",
       "    <tr>\n",
       "      <th>1999-01-01</th>\n",
       "      <td>1999-01-01</td>\n",
       "      <td>1999.0</td>\n",
       "      <td>1</td>\n",
       "      <td>3.664261</td>\n",
       "      <td>4.377</td>\n",
       "      <td>2.368</td>\n",
       "      <td>100.000000</td>\n",
       "      <td>0.000000</td>\n",
       "      <td>13.858130</td>\n",
       "      <td>NaN</td>\n",
       "      <td>6.8</td>\n",
       "    </tr>\n",
       "    <tr>\n",
       "      <th>1999-01-02</th>\n",
       "      <td>1999-01-02</td>\n",
       "      <td>1999.0</td>\n",
       "      <td>2</td>\n",
       "      <td>3.489375</td>\n",
       "      <td>7.300</td>\n",
       "      <td>2.118</td>\n",
       "      <td>95.216667</td>\n",
       "      <td>0.041316</td>\n",
       "      <td>55.083542</td>\n",
       "      <td>NaN</td>\n",
       "      <td>0.0</td>\n",
       "    </tr>\n",
       "    <tr>\n",
       "      <th>1999-01-03</th>\n",
       "      <td>1999-01-03</td>\n",
       "      <td>1999.0</td>\n",
       "      <td>3</td>\n",
       "      <td>4.997667</td>\n",
       "      <td>8.190</td>\n",
       "      <td>2.839</td>\n",
       "      <td>83.039167</td>\n",
       "      <td>0.161932</td>\n",
       "      <td>109.156958</td>\n",
       "      <td>NaN</td>\n",
       "      <td>0.0</td>\n",
       "    </tr>\n",
       "    <tr>\n",
       "      <th>1999-01-04</th>\n",
       "      <td>1999-01-04</td>\n",
       "      <td>1999.0</td>\n",
       "      <td>4</td>\n",
       "      <td>8.441083</td>\n",
       "      <td>13.380</td>\n",
       "      <td>4.587</td>\n",
       "      <td>69.924583</td>\n",
       "      <td>0.363125</td>\n",
       "      <td>115.266458</td>\n",
       "      <td>NaN</td>\n",
       "      <td>0.0</td>\n",
       "    </tr>\n",
       "    <tr>\n",
       "      <th>1999-01-05</th>\n",
       "      <td>1999-01-05</td>\n",
       "      <td>1999.0</td>\n",
       "      <td>5</td>\n",
       "      <td>13.511667</td>\n",
       "      <td>19.480</td>\n",
       "      <td>10.710</td>\n",
       "      <td>30.110417</td>\n",
       "      <td>1.086189</td>\n",
       "      <td>122.989167</td>\n",
       "      <td>NaN</td>\n",
       "      <td>0.0</td>\n",
       "    </tr>\n",
       "    <tr>\n",
       "      <th>...</th>\n",
       "      <td>...</td>\n",
       "      <td>...</td>\n",
       "      <td>...</td>\n",
       "      <td>...</td>\n",
       "      <td>...</td>\n",
       "      <td>...</td>\n",
       "      <td>...</td>\n",
       "      <td>...</td>\n",
       "      <td>...</td>\n",
       "      <td>...</td>\n",
       "      <td>...</td>\n",
       "    </tr>\n",
       "    <tr>\n",
       "      <th>2023-12-27</th>\n",
       "      <td>2023-12-27</td>\n",
       "      <td>2023.0</td>\n",
       "      <td>361</td>\n",
       "      <td>10.256250</td>\n",
       "      <td>15.820</td>\n",
       "      <td>7.480</td>\n",
       "      <td>52.708333</td>\n",
       "      <td>NaN</td>\n",
       "      <td>NaN</td>\n",
       "      <td>NaN</td>\n",
       "      <td>0.0</td>\n",
       "    </tr>\n",
       "    <tr>\n",
       "      <th>2023-12-28</th>\n",
       "      <td>2023-12-28</td>\n",
       "      <td>2023.0</td>\n",
       "      <td>362</td>\n",
       "      <td>8.892500</td>\n",
       "      <td>13.140</td>\n",
       "      <td>6.460</td>\n",
       "      <td>59.166667</td>\n",
       "      <td>NaN</td>\n",
       "      <td>NaN</td>\n",
       "      <td>NaN</td>\n",
       "      <td>0.0</td>\n",
       "    </tr>\n",
       "    <tr>\n",
       "      <th>2023-12-29</th>\n",
       "      <td>2023-12-29</td>\n",
       "      <td>2023.0</td>\n",
       "      <td>363</td>\n",
       "      <td>8.448333</td>\n",
       "      <td>11.450</td>\n",
       "      <td>5.840</td>\n",
       "      <td>66.166667</td>\n",
       "      <td>NaN</td>\n",
       "      <td>NaN</td>\n",
       "      <td>NaN</td>\n",
       "      <td>0.0</td>\n",
       "    </tr>\n",
       "    <tr>\n",
       "      <th>2023-12-30</th>\n",
       "      <td>2023-12-30</td>\n",
       "      <td>2023.0</td>\n",
       "      <td>364</td>\n",
       "      <td>7.220833</td>\n",
       "      <td>11.670</td>\n",
       "      <td>4.640</td>\n",
       "      <td>92.208333</td>\n",
       "      <td>NaN</td>\n",
       "      <td>NaN</td>\n",
       "      <td>NaN</td>\n",
       "      <td>0.0</td>\n",
       "    </tr>\n",
       "    <tr>\n",
       "      <th>2023-12-31</th>\n",
       "      <td>2023-12-31</td>\n",
       "      <td>2023.0</td>\n",
       "      <td>365</td>\n",
       "      <td>7.139583</td>\n",
       "      <td>8.860</td>\n",
       "      <td>4.900</td>\n",
       "      <td>75.666667</td>\n",
       "      <td>NaN</td>\n",
       "      <td>NaN</td>\n",
       "      <td>NaN</td>\n",
       "      <td>0.0</td>\n",
       "    </tr>\n",
       "  </tbody>\n",
       "</table>\n",
       "<p>9131 rows × 11 columns</p>\n",
       "</div>"
      ],
      "text/plain": [
       "             Datetime    year  DOY         Ta    Tmax    Tmin          HR  \\\n",
       "datetime                                                                    \n",
       "1999-01-01 1999-01-01  1999.0    1   3.664261   4.377   2.368  100.000000   \n",
       "1999-01-02 1999-01-02  1999.0    2   3.489375   7.300   2.118   95.216667   \n",
       "1999-01-03 1999-01-03  1999.0    3   4.997667   8.190   2.839   83.039167   \n",
       "1999-01-04 1999-01-04  1999.0    4   8.441083  13.380   4.587   69.924583   \n",
       "1999-01-05 1999-01-05  1999.0    5  13.511667  19.480  10.710   30.110417   \n",
       "...               ...     ...  ...        ...     ...     ...         ...   \n",
       "2023-12-27 2023-12-27  2023.0  361  10.256250  15.820   7.480   52.708333   \n",
       "2023-12-28 2023-12-28  2023.0  362   8.892500  13.140   6.460   59.166667   \n",
       "2023-12-29 2023-12-29  2023.0  363   8.448333  11.450   5.840   66.166667   \n",
       "2023-12-30 2023-12-30  2023.0  364   7.220833  11.670   4.640   92.208333   \n",
       "2023-12-31 2023-12-31  2023.0  365   7.139583   8.860   4.900   75.666667   \n",
       "\n",
       "                 VPD           R  WS    P  \n",
       "datetime                                   \n",
       "1999-01-01  0.000000   13.858130 NaN  6.8  \n",
       "1999-01-02  0.041316   55.083542 NaN  0.0  \n",
       "1999-01-03  0.161932  109.156958 NaN  0.0  \n",
       "1999-01-04  0.363125  115.266458 NaN  0.0  \n",
       "1999-01-05  1.086189  122.989167 NaN  0.0  \n",
       "...              ...         ...  ..  ...  \n",
       "2023-12-27       NaN         NaN NaN  0.0  \n",
       "2023-12-28       NaN         NaN NaN  0.0  \n",
       "2023-12-29       NaN         NaN NaN  0.0  \n",
       "2023-12-30       NaN         NaN NaN  0.0  \n",
       "2023-12-31       NaN         NaN NaN  0.0  \n",
       "\n",
       "[9131 rows x 11 columns]"
      ]
     },
     "execution_count": 7,
     "metadata": {},
     "output_type": "execute_result"
    }
   ],
   "source": [
    "df_daily=pd.DataFrame()\n",
    "df_daily=df.resample('d',on='datetime').mean().dropna(how='all')\n",
    "df_daily['Tmax']=df.resample('d',on='datetime').Ta.max().dropna(how='all')\n",
    "df_daily['Tmin']=df.resample('d',on='datetime').Ta.min().dropna(how='all')\n",
    "#df_daily['WSmin']=df.resample('d',on='datetime').maxWS.min().dropna(how='all')\n",
    "#df_daily['WSmax']=df.resample('d',on='datetime').maxWS.max().dropna(how='all')\n",
    "df_daily['P']=df.resample('d',on='datetime').P.sum().dropna(how='all')\n",
    "df_daily['Datetime']=df.resample('d',on='datetime').datetime.mean().dropna(how='all').dt.date\n",
    "df_daily['Datetime']= pd.to_datetime(df_daily['Datetime'])\n",
    "df_daily=df_daily.drop('time',axis=1)\n",
    "df_daily['DOY']=df_daily['Datetime'].dt.dayofyear\n",
    "\n",
    "df_daily=df_daily.reindex(columns=['Datetime','year','DOY','Ta','Tmax','Tmin','HR','VPD','R','maxWS','P'])\n",
    "df_daily.rename(columns={\"maxWS\":\"WS\"}, inplace = True)\n",
    "\n",
    "df_daily"
   ]
  },
  {
   "cell_type": "code",
   "execution_count": 8,
   "id": "9ec2afd9",
   "metadata": {},
   "outputs": [],
   "source": [
    "df_daily.to_csv('Prades_daily.csv')"
   ]
  },
  {
   "cell_type": "code",
   "execution_count": 9,
   "id": "d37e01de",
   "metadata": {},
   "outputs": [
    {
     "data": {
      "text/plain": [
       "[<matplotlib.lines.Line2D at 0x7fea2db58520>]"
      ]
     },
     "execution_count": 9,
     "metadata": {},
     "output_type": "execute_result"
    },
    {
     "data": {
      "image/png": "[encoded data removed]",
      "text/plain": [
       "<Figure size 640x480 with 1 Axes>"
      ]
     },
     "metadata": {},
     "output_type": "display_data"
    }
   ],
   "source": [
    "plt.plot(df_daily.Datetime,df_daily.Tmin,)\n",
    "plt.plot(df_daily.Datetime,df_daily.Tmax)\n",
    "plt.plot(df_daily.Datetime,df_daily.Ta)"
   ]
  },
  {
   "cell_type": "markdown",
   "id": "5fca0996",
   "metadata": {},
   "source": [
    "## Aggregate at yearly resolution\n"
   ]
  },
  {
   "cell_type": "code",
   "execution_count": 10,
   "id": "23999dc8",
   "metadata": {},
   "outputs": [
    {
     "name": "stderr",
     "output_type": "stream",
     "text": [
      "/tmp/ipykernel_23487/2422596028.py:2: FutureWarning: 'y' is deprecated and will be removed in a future version, please use 'YE' instead.\n",
      "  df_yearly=df.resample('y',on='datetime').mean().dropna(how='all')\n",
      "/tmp/ipykernel_23487/2422596028.py:3: FutureWarning: 'y' is deprecated and will be removed in a future version, please use 'YE' instead.\n",
      "  df_yearly['Tmax']=df.resample('y',on='datetime').Ta.max().dropna(how='all')\n",
      "/tmp/ipykernel_23487/2422596028.py:4: FutureWarning: 'y' is deprecated and will be removed in a future version, please use 'YE' instead.\n",
      "  df_yearly['Tmax_sd']=df.resample('y',on='datetime').Ta.std().dropna(how='all')\n",
      "/tmp/ipykernel_23487/2422596028.py:5: FutureWarning: 'y' is deprecated and will be removed in a future version, please use 'YE' instead.\n",
      "  df_yearly['Tmin']=df.resample('y',on='datetime').Ta.min().dropna(how='all')\n",
      "/tmp/ipykernel_23487/2422596028.py:6: FutureWarning: 'y' is deprecated and will be removed in a future version, please use 'YE' instead.\n",
      "  df_yearly['Tmin_sd']=df.resample('y',on='datetime').Ta.std().dropna(how='all')\n",
      "/tmp/ipykernel_23487/2422596028.py:7: FutureWarning: 'y' is deprecated and will be removed in a future version, please use 'YE' instead.\n",
      "  df_yearly['P']=df.resample('y',on='datetime').P.sum().dropna(how='all')\n",
      "/tmp/ipykernel_23487/2422596028.py:8: FutureWarning: 'y' is deprecated and will be removed in a future version, please use 'YE' instead.\n",
      "  df_yearly['Ta_sd']=df.resample('y',on='datetime').Ta.std().dropna(how='all')\n",
      "/tmp/ipykernel_23487/2422596028.py:9: FutureWarning: 'y' is deprecated and will be removed in a future version, please use 'YE' instead.\n",
      "  df_yearly['HR_sd']=df.resample('y',on='datetime').HR.std().dropna(how='all')\n",
      "/tmp/ipykernel_23487/2422596028.py:10: FutureWarning: 'y' is deprecated and will be removed in a future version, please use 'YE' instead.\n",
      "  df_yearly['VPD_sd']=df.resample('y',on='datetime').VPD.std().dropna(how='all')\n",
      "/tmp/ipykernel_23487/2422596028.py:11: FutureWarning: 'y' is deprecated and will be removed in a future version, please use 'YE' instead.\n",
      "  df_yearly['R_sd']=df.resample('y',on='datetime').R.std().dropna(how='all')\n",
      "/tmp/ipykernel_23487/2422596028.py:12: FutureWarning: 'y' is deprecated and will be removed in a future version, please use 'YE' instead.\n",
      "  df_yearly['WS_sd']=df.resample('y',on='datetime').maxWS.std().dropna(how='all')\n",
      "/tmp/ipykernel_23487/2422596028.py:13: FutureWarning: 'y' is deprecated and will be removed in a future version, please use 'YE' instead.\n",
      "  df_yearly['P_sd']=df.resample('y',on='datetime').P.std().dropna(how='all')\n",
      "/tmp/ipykernel_23487/2422596028.py:14: FutureWarning: 'y' is deprecated and will be removed in a future version, please use 'YE' instead.\n",
      "  df_yearly['year']=df.resample('y',on='datetime').datetime.mean().dropna(how='all').dt.year\n"
     ]
    }
   ],
   "source": [
    "df_yearly=pd.DataFrame()\n",
    "df_yearly=df.resample('y',on='datetime').mean().dropna(how='all')\n",
    "df_yearly['Tmax']=df.resample('y',on='datetime').Ta.max().dropna(how='all')\n",
    "df_yearly['Tmax_sd']=df.resample('y',on='datetime').Ta.std().dropna(how='all')\n",
    "df_yearly['Tmin']=df.resample('y',on='datetime').Ta.min().dropna(how='all')\n",
    "df_yearly['Tmin_sd']=df.resample('y',on='datetime').Ta.std().dropna(how='all')\n",
    "df_yearly['P']=df.resample('y',on='datetime').P.sum().dropna(how='all')\n",
    "df_yearly['Ta_sd']=df.resample('y',on='datetime').Ta.std().dropna(how='all')\n",
    "df_yearly['HR_sd']=df.resample('y',on='datetime').HR.std().dropna(how='all')\n",
    "df_yearly['VPD_sd']=df.resample('y',on='datetime').VPD.std().dropna(how='all')\n",
    "df_yearly['R_sd']=df.resample('y',on='datetime').R.std().dropna(how='all')\n",
    "df_yearly['WS_sd']=df.resample('y',on='datetime').maxWS.std().dropna(how='all')\n",
    "df_yearly['P_sd']=df.resample('y',on='datetime').P.std().dropna(how='all')\n",
    "df_yearly['year']=df.resample('y',on='datetime').datetime.mean().dropna(how='all').dt.year\n",
    "# df_yearly['Datetime']= pd.to_datetime(df_daily['Datetime'])\n",
    "df_yearly=df_yearly.drop('time',axis=1)\n",
    "df_yearly=df_yearly.drop('DOY',axis=1)\n",
    "df_yearly=df_yearly.reindex(columns=['year','Ta','Tmax','Tmin','HR','VPD','R','maxWS','P','Ta_sd','Tmax_sd','Tmin_sd',\n",
    "                           'HR_sd','VPD_sd','R_sd','WS_sd','P_sd'])\n",
    "\n",
    "df_yearly.rename(columns={\"maxWS\":\"WS\"}, inplace = True)\n",
    "df_yearly\n",
    "\n",
    "df_yearly.to_csv('Prades_yearly.csv')"
   ]
  },
  {
   "cell_type": "code",
   "execution_count": 11,
   "id": "3f1da22e",
   "metadata": {},
   "outputs": [
    {
     "data": {
      "text/plain": [
       "[<matplotlib.lines.Line2D at 0x7fea2d7b04c0>]"
      ]
     },
     "execution_count": 11,
     "metadata": {},
     "output_type": "execute_result"
    },
    {
     "data": {
      "image/png": "[encoded data removed]",
      "text/plain": [
       "<Figure size 640x480 with 1 Axes>"
      ]
     },
     "metadata": {},
     "output_type": "display_data"
    }
   ],
   "source": [
    "plt.plot(df_yearly.year,df_yearly.Tmin)\n",
    "plt.plot(df_yearly.year,df_yearly.Tmax)\n",
    "plt.plot(df_yearly.year,df_yearly.Ta)"
   ]
  },
  {
   "cell_type": "markdown",
   "id": "f4671a54",
   "metadata": {},
   "source": [
    "## Means during the whole period"
   ]
  },
  {
   "cell_type": "code",
   "execution_count": 12,
   "id": "98520670",
   "metadata": {},
   "outputs": [
    {
     "name": "stderr",
     "output_type": "stream",
     "text": [
      "/tmp/ipykernel_23487/2479874108.py:2: FutureWarning: 'y' is deprecated and will be removed in a future version, please use 'YE' instead.\n",
      "  df_yearly=df.resample('y',on='datetime').mean().dropna(how='all')\n",
      "/tmp/ipykernel_23487/2479874108.py:3: FutureWarning: 'y' is deprecated and will be removed in a future version, please use 'YE' instead.\n",
      "  df_yearly['Tmax']=df.resample('y',on='datetime').Ta.max().dropna(how='all')\n",
      "/tmp/ipykernel_23487/2479874108.py:4: FutureWarning: 'y' is deprecated and will be removed in a future version, please use 'YE' instead.\n",
      "  df_yearly['Tmax_sd']=df.resample('y',on='datetime').Ta.std().dropna(how='all')\n",
      "/tmp/ipykernel_23487/2479874108.py:5: FutureWarning: 'y' is deprecated and will be removed in a future version, please use 'YE' instead.\n",
      "  df_yearly['Tmin']=df.resample('y',on='datetime').Ta.min().dropna(how='all')\n",
      "/tmp/ipykernel_23487/2479874108.py:6: FutureWarning: 'y' is deprecated and will be removed in a future version, please use 'YE' instead.\n",
      "  df_yearly['Tmin_sd']=df.resample('y',on='datetime').Ta.std().dropna(how='all')\n",
      "/tmp/ipykernel_23487/2479874108.py:7: FutureWarning: 'y' is deprecated and will be removed in a future version, please use 'YE' instead.\n",
      "  df_yearly['P']=df.resample('y',on='datetime').P.sum().dropna(how='all')\n",
      "/tmp/ipykernel_23487/2479874108.py:8: FutureWarning: 'y' is deprecated and will be removed in a future version, please use 'YE' instead.\n",
      "  df_yearly['Ta_sd']=df.resample('y',on='datetime').Ta.std().dropna(how='all')\n",
      "/tmp/ipykernel_23487/2479874108.py:9: FutureWarning: 'y' is deprecated and will be removed in a future version, please use 'YE' instead.\n",
      "  df_yearly['HR_sd']=df.resample('y',on='datetime').HR.std().dropna(how='all')\n",
      "/tmp/ipykernel_23487/2479874108.py:10: FutureWarning: 'y' is deprecated and will be removed in a future version, please use 'YE' instead.\n",
      "  df_yearly['VPD_sd']=df.resample('y',on='datetime').VPD.std().dropna(how='all')\n",
      "/tmp/ipykernel_23487/2479874108.py:11: FutureWarning: 'y' is deprecated and will be removed in a future version, please use 'YE' instead.\n",
      "  df_yearly['R_sd']=df.resample('y',on='datetime').R.std().dropna(how='all')\n",
      "/tmp/ipykernel_23487/2479874108.py:12: FutureWarning: 'y' is deprecated and will be removed in a future version, please use 'YE' instead.\n",
      "  df_yearly['WS_sd']=df.resample('y',on='datetime').maxWS.std().dropna(how='all')\n",
      "/tmp/ipykernel_23487/2479874108.py:13: FutureWarning: 'y' is deprecated and will be removed in a future version, please use 'YE' instead.\n",
      "  df_yearly['P_sd']=df.resample('y',on='datetime').P.std().dropna(how='all')\n",
      "/tmp/ipykernel_23487/2479874108.py:14: FutureWarning: 'y' is deprecated and will be removed in a future version, please use 'YE' instead.\n",
      "  df_yearly['year']=df.resample('y',on='datetime').datetime.mean().dropna(how='all').dt.year\n"
     ]
    }
   ],
   "source": [
    "df_means=pd.DataFrame()\n",
    "df_yearly=df.resample('y',on='datetime').mean().dropna(how='all')\n",
    "df_yearly['Tmax']=df.resample('y',on='datetime').Ta.max().dropna(how='all')\n",
    "df_yearly['Tmax_sd']=df.resample('y',on='datetime').Ta.std().dropna(how='all')\n",
    "df_yearly['Tmin']=df.resample('y',on='datetime').Ta.min().dropna(how='all')\n",
    "df_yearly['Tmin_sd']=df.resample('y',on='datetime').Ta.std().dropna(how='all')\n",
    "df_yearly['P']=df.resample('y',on='datetime').P.sum().dropna(how='all')\n",
    "df_yearly['Ta_sd']=df.resample('y',on='datetime').Ta.std().dropna(how='all')\n",
    "df_yearly['HR_sd']=df.resample('y',on='datetime').HR.std().dropna(how='all')\n",
    "df_yearly['VPD_sd']=df.resample('y',on='datetime').VPD.std().dropna(how='all')\n",
    "df_yearly['R_sd']=df.resample('y',on='datetime').R.std().dropna(how='all')\n",
    "df_yearly['WS_sd']=df.resample('y',on='datetime').maxWS.std().dropna(how='all')\n",
    "df_yearly['P_sd']=df.resample('y',on='datetime').P.std().dropna(how='all')\n",
    "df_yearly['year']=df.resample('y',on='datetime').datetime.mean().dropna(how='all').dt.year\n",
    "# df_yearly['Datetime']= pd.to_datetime(df_daily['Datetime'])\n",
    "df_yearly=df_yearly.drop('time',axis=1)\n",
    "df_yearly=df_yearly.drop('DOY',axis=1)\n",
    "df_yearly=df_yearly.reindex(columns=['year','Ta','Tmax','Tmin','HR','VPD','R','maxWS','P','Ta_sd','Tmax_sd','Tmin_sd',\n",
    "                           'HR_sd','VPD_sd','R_sd','WS_sd','P_sd'])\n",
    "\n",
    "df_yearly.rename(columns={\"maxWS\":\"WS\"}, inplace = True)\n",
    "df_yearly\n",
    "\n",
    "df_yearly.to_csv('Prades_yearly.csv')"
   ]
  },
  {
   "cell_type": "code",
   "execution_count": 13,
   "id": "d8b55146",
   "metadata": {},
   "outputs": [],
   "source": [
    "aa=df_daily.mean(axis=0) "
   ]
  },
  {
   "cell_type": "code",
   "execution_count": 14,
   "id": "246b64e8",
   "metadata": {},
   "outputs": [
    {
     "data": {
      "text/plain": [
       "Datetime    2011-07-02 00:00:00\n",
       "year                2010.999243\n",
       "DOY                   183.12025\n",
       "Ta                    12.067382\n",
       "Tmax                  17.280455\n",
       "Tmin                   7.949731\n",
       "HR                     74.77741\n",
       "VPD                     0.48414\n",
       "R                    179.764109\n",
       "WS                      8.52108\n",
       "P                      1.476767\n",
       "dtype: object"
      ]
     },
     "execution_count": 14,
     "metadata": {},
     "output_type": "execute_result"
    }
   ],
   "source": [
    "aa"
   ]
  }
 ],
 "metadata": {
  "kernelspec": {
   "display_name": "Python 3 (ipykernel)",
   "language": "python",
   "name": "python3"
  },
  "language_info": {
   "codemirror_mode": {
    "name": "ipython",
    "version": 3
   },
   "file_extension": ".py",
   "mimetype": "text/x-python",
   "name": "python",
   "nbconvert_exporter": "python",
   "pygments_lexer": "ipython3",
   "version": "3.9.15"
  }
 },
 "nbformat": 4,
 "nbformat_minor": 5
}
